{
 "cells": [
  {
   "cell_type": "code",
   "execution_count": 3,
   "metadata": {},
   "outputs": [],
   "source": [
    "import tensorflow as tf\n",
    "from tensorflow.keras.preprocessing.image import ImageDataGenerator\n",
    "from tensorflow.keras.applications.vgg16 import VGG16"
   ]
  },
  {
   "cell_type": "code",
   "execution_count": 4,
   "metadata": {},
   "outputs": [],
   "source": [
    "train_datagen = ImageDataGenerator(rescale=1./255)"
   ]
  },
  {
   "cell_type": "code",
   "execution_count": 5,
   "metadata": {},
   "outputs": [
    {
     "name": "stdout",
     "output_type": "stream",
     "text": [
      "Found 14034 images belonging to 6 classes.\n"
     ]
    }
   ],
   "source": [
    "train_generator = train_datagen.flow_from_directory(\n",
    "        '/home/william/Desktop/Image Classification/seg_train/seg_train',\n",
    "        target_size=(150, 150),\n",
    "        batch_size=32,\n",
    "        class_mode='binary')"
   ]
  },
  {
   "cell_type": "code",
   "execution_count": 6,
   "metadata": {},
   "outputs": [],
   "source": [
    "class myCallback(tf.keras.callbacks.Callback):\n",
    "    def on_epoch_end(self, epoch, logs={}):\n",
    "        if(logs.get('acc')>0.998):\n",
    "            print(\"\\nReached 99.8% accuracy so cancelling training!\")\n",
    "            self.model.stop_training = True"
   ]
  },
  {
   "cell_type": "code",
   "execution_count": 7,
   "metadata": {},
   "outputs": [],
   "source": [
    "model = VGG16(weights=None, input_shape=(150,150,3), classes=6)"
   ]
  },
  {
   "cell_type": "code",
   "execution_count": null,
   "metadata": {},
   "outputs": [],
   "source": [
    "model.summary()"
   ]
  },
  {
   "cell_type": "code",
   "execution_count": 8,
   "metadata": {
    "scrolled": true
   },
   "outputs": [
    {
     "data": {
      "text/plain": [
       "\"model = tf.keras.models.Sequential([\\n  tf.keras.layers.Conv2D(32, (3,3), activation='relu', input_shape=(150, 150, 3)),\\n  tf.keras.layers.MaxPooling2D(2, 2),\\n  tf.keras.layers.Conv2D(32, (3,3), activation='relu'),\\n  tf.keras.layers.MaxPooling2D(2, 2),\\n  tf.keras.layers.Flatten(),\\n  tf.keras.layers.Dense(128, activation='relu'),\\n  tf.keras.layers.Dense(6, activation='softmax')\\n])\""
      ]
     },
     "execution_count": 8,
     "metadata": {},
     "output_type": "execute_result"
    }
   ],
   "source": [
    "\"\"\"model = tf.keras.models.Sequential([\n",
    "  tf.keras.layers.Conv2D(32, (3,3), activation='relu', input_shape=(150, 150, 3)),\n",
    "  tf.keras.layers.MaxPooling2D(2, 2),\n",
    "  tf.keras.layers.Conv2D(32, (3,3), activation='relu'),\n",
    "  tf.keras.layers.MaxPooling2D(2, 2),\n",
    "  tf.keras.layers.Flatten(),\n",
    "  tf.keras.layers.Dense(128, activation='relu'),\n",
    "  tf.keras.layers.Dense(6, activation='softmax')\n",
    "])\"\"\""
   ]
  },
  {
   "cell_type": "code",
   "execution_count": 9,
   "metadata": {},
   "outputs": [],
   "source": [
    "#callbacks = myCallback()"
   ]
  },
  {
   "cell_type": "code",
   "execution_count": 10,
   "metadata": {},
   "outputs": [],
   "source": [
    "model.compile(optimizer='adam',\n",
    "              loss='sparse_categorical_crossentropy',\n",
    "              metrics=['accuracy'])"
   ]
  },
  {
   "cell_type": "code",
   "execution_count": 11,
   "metadata": {},
   "outputs": [
    {
     "name": "stdout",
     "output_type": "stream",
     "text": [
      "Epoch 1/10\n",
      "8/8 [==============================] - 64s 8s/step - loss: 2.0358 - accuracy: 0.1250\n",
      "Epoch 2/10\n",
      "8/8 [==============================] - 64s 8s/step - loss: 1.7917 - accuracy: 0.1602\n",
      "Epoch 3/10\n",
      "8/8 [==============================] - 64s 8s/step - loss: 1.8098 - accuracy: 0.1836\n",
      "Epoch 4/10\n",
      "8/8 [==============================] - 64s 8s/step - loss: 1.7943 - accuracy: 0.1484\n",
      "Epoch 5/10\n",
      "8/8 [==============================] - 64s 8s/step - loss: 1.8064 - accuracy: 0.1602\n",
      "Epoch 6/10\n",
      "8/8 [==============================] - 64s 8s/step - loss: 1.7931 - accuracy: 0.1680\n",
      "Epoch 7/10\n",
      "8/8 [==============================] - 64s 8s/step - loss: 1.7938 - accuracy: 0.1641\n",
      "Epoch 8/10\n",
      "8/8 [==============================] - 64s 8s/step - loss: 1.7926 - accuracy: 0.1602\n",
      "Epoch 9/10\n",
      "8/8 [==============================] - 67s 8s/step - loss: 1.7926 - accuracy: 0.1484\n",
      "Epoch 10/10\n",
      "8/8 [==============================] - 67s 8s/step - loss: 1.7905 - accuracy: 0.1914\n"
     ]
    }
   ],
   "source": [
    "history = model.fit_generator(\n",
    "      train_generator,\n",
    "      steps_per_epoch=8,  \n",
    "      epochs=10,\n",
    "      verbose=1)\n",
    "      #callbacks = [callbacks])"
   ]
  },
  {
   "cell_type": "code",
   "execution_count": null,
   "metadata": {},
   "outputs": [],
   "source": []
  },
  {
   "cell_type": "code",
   "execution_count": null,
   "metadata": {},
   "outputs": [],
   "source": []
  }
 ],
 "metadata": {
  "kernelspec": {
   "display_name": "Python 3",
   "language": "python",
   "name": "python3"
  },
  "language_info": {
   "codemirror_mode": {
    "name": "ipython",
    "version": 3
   },
   "file_extension": ".py",
   "mimetype": "text/x-python",
   "name": "python",
   "nbconvert_exporter": "python",
   "pygments_lexer": "ipython3",
   "version": "3.6.8"
  }
 },
 "nbformat": 4,
 "nbformat_minor": 2
}
